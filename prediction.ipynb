{
 "cells": [
  {
   "cell_type": "code",
   "execution_count": 16,
   "metadata": {},
   "outputs": [],
   "source": [
    "# Step 1: Import Libraries and Load the Model\n",
    "import numpy as np\n",
    "import tensorflow as tf\n",
    "from tensorflow.keras.datasets import imdb\n",
    "from tensorflow.keras.preprocessing import sequence\n",
    "from tensorflow.keras.models import load_model "
   ]
  },
  {
   "cell_type": "code",
   "execution_count": 17,
   "metadata": {},
   "outputs": [],
   "source": [
    "\n",
    "# Load the IMDB dataset word index\n",
    "word_index = imdb.get_word_index()\n",
    "reverse_word_index = {value: key for key, value in word_index.items()}"
   ]
  },
  {
   "cell_type": "code",
   "execution_count": 18,
   "metadata": {},
   "outputs": [
    {
     "name": "stderr",
     "output_type": "stream",
     "text": [
      "WARNING:absl:Compiled the loaded model, but the compiled metrics have yet to be built. `model.compile_metrics` will be empty until you train or evaluate the model.\n"
     ]
    },
    {
     "data": {
      "text/html": [
       "<pre style=\"white-space:pre;overflow-x:auto;line-height:normal;font-family:Menlo,'DejaVu Sans Mono',consolas,'Courier New',monospace\"><span style=\"font-weight: bold\">Model: \"sequential_1\"</span>\n",
       "</pre>\n"
      ],
      "text/plain": [
       "\u001b[1mModel: \"sequential_1\"\u001b[0m\n"
      ]
     },
     "metadata": {},
     "output_type": "display_data"
    },
    {
     "data": {
      "text/html": [
       "<pre style=\"white-space:pre;overflow-x:auto;line-height:normal;font-family:Menlo,'DejaVu Sans Mono',consolas,'Courier New',monospace\">┏━━━━━━━━━━━━━━━━━━━━━━━━━━━━━━━━━┳━━━━━━━━━━━━━━━━━━━━━━━━┳━━━━━━━━━━━━━━━┓\n",
       "┃<span style=\"font-weight: bold\"> Layer (type)                    </span>┃<span style=\"font-weight: bold\"> Output Shape           </span>┃<span style=\"font-weight: bold\">       Param # </span>┃\n",
       "┡━━━━━━━━━━━━━━━━━━━━━━━━━━━━━━━━━╇━━━━━━━━━━━━━━━━━━━━━━━━╇━━━━━━━━━━━━━━━┩\n",
       "│ embedding_1 (<span style=\"color: #0087ff; text-decoration-color: #0087ff\">Embedding</span>)         │ (<span style=\"color: #00af00; text-decoration-color: #00af00\">32</span>, <span style=\"color: #00af00; text-decoration-color: #00af00\">500</span>, <span style=\"color: #00af00; text-decoration-color: #00af00\">128</span>)         │     <span style=\"color: #00af00; text-decoration-color: #00af00\">1,280,000</span> │\n",
       "├─────────────────────────────────┼────────────────────────┼───────────────┤\n",
       "│ simple_rnn_1 (<span style=\"color: #0087ff; text-decoration-color: #0087ff\">SimpleRNN</span>)        │ (<span style=\"color: #00af00; text-decoration-color: #00af00\">32</span>, <span style=\"color: #00af00; text-decoration-color: #00af00\">128</span>)              │        <span style=\"color: #00af00; text-decoration-color: #00af00\">32,896</span> │\n",
       "├─────────────────────────────────┼────────────────────────┼───────────────┤\n",
       "│ dense_1 (<span style=\"color: #0087ff; text-decoration-color: #0087ff\">Dense</span>)                 │ (<span style=\"color: #00af00; text-decoration-color: #00af00\">32</span>, <span style=\"color: #00af00; text-decoration-color: #00af00\">1</span>)                │           <span style=\"color: #00af00; text-decoration-color: #00af00\">129</span> │\n",
       "└─────────────────────────────────┴────────────────────────┴───────────────┘\n",
       "</pre>\n"
      ],
      "text/plain": [
       "┏━━━━━━━━━━━━━━━━━━━━━━━━━━━━━━━━━┳━━━━━━━━━━━━━━━━━━━━━━━━┳━━━━━━━━━━━━━━━┓\n",
       "┃\u001b[1m \u001b[0m\u001b[1mLayer (type)                   \u001b[0m\u001b[1m \u001b[0m┃\u001b[1m \u001b[0m\u001b[1mOutput Shape          \u001b[0m\u001b[1m \u001b[0m┃\u001b[1m \u001b[0m\u001b[1m      Param #\u001b[0m\u001b[1m \u001b[0m┃\n",
       "┡━━━━━━━━━━━━━━━━━━━━━━━━━━━━━━━━━╇━━━━━━━━━━━━━━━━━━━━━━━━╇━━━━━━━━━━━━━━━┩\n",
       "│ embedding_1 (\u001b[38;5;33mEmbedding\u001b[0m)         │ (\u001b[38;5;34m32\u001b[0m, \u001b[38;5;34m500\u001b[0m, \u001b[38;5;34m128\u001b[0m)         │     \u001b[38;5;34m1,280,000\u001b[0m │\n",
       "├─────────────────────────────────┼────────────────────────┼───────────────┤\n",
       "│ simple_rnn_1 (\u001b[38;5;33mSimpleRNN\u001b[0m)        │ (\u001b[38;5;34m32\u001b[0m, \u001b[38;5;34m128\u001b[0m)              │        \u001b[38;5;34m32,896\u001b[0m │\n",
       "├─────────────────────────────────┼────────────────────────┼───────────────┤\n",
       "│ dense_1 (\u001b[38;5;33mDense\u001b[0m)                 │ (\u001b[38;5;34m32\u001b[0m, \u001b[38;5;34m1\u001b[0m)                │           \u001b[38;5;34m129\u001b[0m │\n",
       "└─────────────────────────────────┴────────────────────────┴───────────────┘\n"
      ]
     },
     "metadata": {},
     "output_type": "display_data"
    },
    {
     "data": {
      "text/html": [
       "<pre style=\"white-space:pre;overflow-x:auto;line-height:normal;font-family:Menlo,'DejaVu Sans Mono',consolas,'Courier New',monospace\"><span style=\"font-weight: bold\"> Total params: </span><span style=\"color: #00af00; text-decoration-color: #00af00\">1,313,027</span> (5.01 MB)\n",
       "</pre>\n"
      ],
      "text/plain": [
       "\u001b[1m Total params: \u001b[0m\u001b[38;5;34m1,313,027\u001b[0m (5.01 MB)\n"
      ]
     },
     "metadata": {},
     "output_type": "display_data"
    },
    {
     "data": {
      "text/html": [
       "<pre style=\"white-space:pre;overflow-x:auto;line-height:normal;font-family:Menlo,'DejaVu Sans Mono',consolas,'Courier New',monospace\"><span style=\"font-weight: bold\"> Trainable params: </span><span style=\"color: #00af00; text-decoration-color: #00af00\">1,313,025</span> (5.01 MB)\n",
       "</pre>\n"
      ],
      "text/plain": [
       "\u001b[1m Trainable params: \u001b[0m\u001b[38;5;34m1,313,025\u001b[0m (5.01 MB)\n"
      ]
     },
     "metadata": {},
     "output_type": "display_data"
    },
    {
     "data": {
      "text/html": [
       "<pre style=\"white-space:pre;overflow-x:auto;line-height:normal;font-family:Menlo,'DejaVu Sans Mono',consolas,'Courier New',monospace\"><span style=\"font-weight: bold\"> Non-trainable params: </span><span style=\"color: #00af00; text-decoration-color: #00af00\">0</span> (0.00 B)\n",
       "</pre>\n"
      ],
      "text/plain": [
       "\u001b[1m Non-trainable params: \u001b[0m\u001b[38;5;34m0\u001b[0m (0.00 B)\n"
      ]
     },
     "metadata": {},
     "output_type": "display_data"
    },
    {
     "data": {
      "text/html": [
       "<pre style=\"white-space:pre;overflow-x:auto;line-height:normal;font-family:Menlo,'DejaVu Sans Mono',consolas,'Courier New',monospace\"><span style=\"font-weight: bold\"> Optimizer params: </span><span style=\"color: #00af00; text-decoration-color: #00af00\">2</span> (12.00 B)\n",
       "</pre>\n"
      ],
      "text/plain": [
       "\u001b[1m Optimizer params: \u001b[0m\u001b[38;5;34m2\u001b[0m (12.00 B)\n"
      ]
     },
     "metadata": {},
     "output_type": "display_data"
    }
   ],
   "source": [
    "# Load the pre-trained model with ReLU activation\n",
    "model = load_model('simple_rnn_imdb_model.h5')\n",
    "model.summary()"
   ]
  },
  {
   "cell_type": "code",
   "execution_count": 19,
   "metadata": {},
   "outputs": [
    {
     "data": {
      "text/plain": [
       "[array([[ 8.99132938e-05, -6.43212572e-02, -4.31881379e-03, ...,\n",
       "          7.32499734e-03, -7.49204680e-03,  2.02219803e-02],\n",
       "        [ 3.95071097e-02,  3.57558690e-02, -2.74051353e-02, ...,\n",
       "          1.11657968e-02,  1.38409836e-02,  2.54271757e-02],\n",
       "        [ 1.32049862e-02, -1.61580089e-03,  3.86896096e-02, ...,\n",
       "         -1.08447270e-02, -4.53958325e-02, -7.83289410e-03],\n",
       "        ...,\n",
       "        [-2.25533564e-02,  2.37840302e-02,  4.06489074e-02, ...,\n",
       "         -4.97666113e-02, -3.49701010e-02,  6.25271052e-02],\n",
       "        [-2.50051320e-02,  5.13214897e-03, -1.20961468e-03, ...,\n",
       "         -1.01830356e-01,  4.60735941e-03, -5.04239835e-02],\n",
       "        [-3.93076204e-02,  9.16986540e-02,  6.65151924e-02, ...,\n",
       "         -4.08906676e-02, -1.15853623e-01, -1.64204300e-03]], dtype=float32),\n",
       " array([[-0.09416258,  0.14817594,  0.1331889 , ..., -0.02247207,\n",
       "          0.06713689,  0.02584522],\n",
       "        [-0.03548632, -0.13512181,  0.01136072, ..., -0.03845586,\n",
       "         -0.04099536, -0.09755772],\n",
       "        [-0.14201312,  0.04860453, -0.06671529, ...,  0.10353398,\n",
       "          0.13583796, -0.06757104],\n",
       "        ...,\n",
       "        [-0.04052451,  0.03531971, -0.01524474, ...,  0.05964521,\n",
       "          0.00980956, -0.11586381],\n",
       "        [ 0.09062538,  0.10890235,  0.07204262, ..., -0.1176442 ,\n",
       "         -0.05991991, -0.11185581],\n",
       "        [-0.03123595,  0.14753737,  0.05756478, ..., -0.16782565,\n",
       "         -0.00491084,  0.10286031]], dtype=float32),\n",
       " array([[ 0.04039527, -0.07683895,  0.07819156, ...,  0.03658539,\n",
       "         -0.14586866,  0.03480065],\n",
       "        [-0.09172278,  0.11466296,  0.22513907, ...,  0.00508503,\n",
       "         -0.09224453,  0.05428972],\n",
       "        [-0.11201113, -0.00083459,  0.12534775, ..., -0.05653871,\n",
       "         -0.08508654, -0.0355427 ],\n",
       "        ...,\n",
       "        [-0.11131892,  0.07196776, -0.01528537, ..., -0.03935971,\n",
       "         -0.01745072,  0.02610406],\n",
       "        [ 0.00793192, -0.14095421, -0.03879499, ...,  0.01190139,\n",
       "         -0.0852311 ,  0.15351674],\n",
       "        [ 0.11093174, -0.2528283 , -0.07223573, ..., -0.2594205 ,\n",
       "          0.03044004,  0.09135952]], dtype=float32),\n",
       " array([-0.01030163, -0.00698329, -0.02100551, -0.00579878, -0.01724532,\n",
       "        -0.01408254, -0.00342715, -0.00174885,  0.01670075, -0.00561714,\n",
       "        -0.01777858, -0.00114154, -0.00225635, -0.0134034 , -0.00512463,\n",
       "        -0.01838125, -0.0062359 , -0.01174732, -0.00779523, -0.01845961,\n",
       "         0.00536922,  0.00064816, -0.01181681,  0.00167625,  0.01730021,\n",
       "         0.09411915, -0.00134986, -0.01487644, -0.01189147,  0.0003242 ,\n",
       "        -0.01258794, -0.0100416 ,  0.02991842,  0.00749399, -0.01766702,\n",
       "        -0.01666806,  0.00433956, -0.00935144, -0.00053468, -0.00838876,\n",
       "        -0.00858123, -0.00853178,  0.02560797,  0.00197286, -0.00552004,\n",
       "         0.01406391, -0.01133072,  0.02019484,  0.01564811, -0.01682232,\n",
       "         0.00070143,  0.02399849,  0.0188906 ,  0.01915604,  0.00613275,\n",
       "        -0.00212805, -0.01187597,  0.01979339,  0.00493721, -0.01398764,\n",
       "        -0.00213427,  0.0040212 ,  0.01536122,  0.01086485, -0.00771262,\n",
       "         0.00448204,  0.01510173, -0.01203884, -0.00926259, -0.02174487,\n",
       "         0.00649569, -0.00766292, -0.01368122, -0.01692457, -0.00379835,\n",
       "        -0.01462255,  0.02006497, -0.01527265, -0.00752431,  0.02153099,\n",
       "         0.0138117 , -0.00355239, -0.01078158,  0.01545497, -0.02555774,\n",
       "        -0.0074556 , -0.00892204,  0.02309582,  0.01226322, -0.00600251,\n",
       "         0.00903987,  0.0149787 , -0.0103629 ,  0.01929145, -0.01349134,\n",
       "         0.01807776, -0.00717195,  0.00188331, -0.01842554, -0.00891958,\n",
       "         0.00422896,  0.00098194, -0.0087282 , -0.0027309 , -0.00619748,\n",
       "        -0.00267493,  0.00036844, -0.00963992, -0.01053678,  0.00839843,\n",
       "        -0.00764844, -0.01205027, -0.02474472, -0.00776725, -0.0030382 ,\n",
       "         0.01432194, -0.01970389, -0.0014334 , -0.01489788, -0.01387894,\n",
       "         0.00584262, -0.01598271, -0.00165055, -0.00854037,  0.02126311,\n",
       "        -0.00794967, -0.01829467,  0.00127763], dtype=float32),\n",
       " array([[ 0.03393912],\n",
       "        [-0.22819436],\n",
       "        [-0.32219794],\n",
       "        [ 0.16735213],\n",
       "        [ 0.13226545],\n",
       "        [-0.08395769],\n",
       "        [-0.10668958],\n",
       "        [-0.3725482 ],\n",
       "        [-0.1176852 ],\n",
       "        [ 0.07400725],\n",
       "        [-0.13718401],\n",
       "        [-0.23340867],\n",
       "        [ 0.11598311],\n",
       "        [ 0.1419032 ],\n",
       "        [ 0.05749565],\n",
       "        [-0.11142116],\n",
       "        [ 0.00664545],\n",
       "        [ 0.00907031],\n",
       "        [ 0.1625163 ],\n",
       "        [ 0.07683992],\n",
       "        [ 0.00678769],\n",
       "        [ 0.02039673],\n",
       "        [ 0.04854358],\n",
       "        [ 0.13689898],\n",
       "        [-0.17289573],\n",
       "        [ 0.36787915],\n",
       "        [-0.00390406],\n",
       "        [-0.09040821],\n",
       "        [ 0.20594692],\n",
       "        [ 0.17402552],\n",
       "        [-0.25708118],\n",
       "        [ 0.1642547 ],\n",
       "        [-0.17962447],\n",
       "        [-0.00575532],\n",
       "        [ 0.15488328],\n",
       "        [-0.02844274],\n",
       "        [-0.00458706],\n",
       "        [-0.09799006],\n",
       "        [ 0.07860434],\n",
       "        [-0.21513824],\n",
       "        [ 0.13191174],\n",
       "        [-0.06770268],\n",
       "        [-0.12944172],\n",
       "        [ 0.23526153],\n",
       "        [ 0.12386238],\n",
       "        [-0.09256953],\n",
       "        [ 0.02972305],\n",
       "        [-0.10613386],\n",
       "        [ 0.03765223],\n",
       "        [-0.15158483],\n",
       "        [ 0.33329898],\n",
       "        [-0.2177946 ],\n",
       "        [-0.19975846],\n",
       "        [-0.07781025],\n",
       "        [ 0.06019362],\n",
       "        [ 0.01283791],\n",
       "        [ 0.17202547],\n",
       "        [-0.11028937],\n",
       "        [ 0.5930085 ],\n",
       "        [-0.04201699],\n",
       "        [ 0.37229696],\n",
       "        [-0.07394944],\n",
       "        [-0.34542432],\n",
       "        [ 0.6899678 ],\n",
       "        [ 0.15570545],\n",
       "        [-0.18149394],\n",
       "        [-0.16911645],\n",
       "        [ 0.00582429],\n",
       "        [-0.0040939 ],\n",
       "        [-0.1493866 ],\n",
       "        [-0.06290507],\n",
       "        [-0.15695217],\n",
       "        [ 0.20381108],\n",
       "        [-0.09252785],\n",
       "        [ 0.08854478],\n",
       "        [-0.09668236],\n",
       "        [-0.03320255],\n",
       "        [ 0.17792632],\n",
       "        [ 0.07266515],\n",
       "        [-0.18500933],\n",
       "        [ 0.51645005],\n",
       "        [ 0.19645719],\n",
       "        [ 0.15574881],\n",
       "        [-0.1792329 ],\n",
       "        [-0.11824679],\n",
       "        [ 0.03219717],\n",
       "        [ 0.13550992],\n",
       "        [-0.00686793],\n",
       "        [-0.16390496],\n",
       "        [ 0.5987357 ],\n",
       "        [ 0.08735286],\n",
       "        [-0.05696952],\n",
       "        [ 0.07909169],\n",
       "        [-0.1478621 ],\n",
       "        [ 0.01197481],\n",
       "        [-0.25285155],\n",
       "        [ 0.3179293 ],\n",
       "        [ 0.6299877 ],\n",
       "        [ 0.09115744],\n",
       "        [ 0.0571162 ],\n",
       "        [-0.22425896],\n",
       "        [-0.02829733],\n",
       "        [ 0.07585755],\n",
       "        [ 0.6830077 ],\n",
       "        [-0.25068152],\n",
       "        [ 0.22546394],\n",
       "        [-0.02011366],\n",
       "        [-0.00666811],\n",
       "        [-0.03072848],\n",
       "        [ 0.07422872],\n",
       "        [ 0.02560095],\n",
       "        [ 0.381782  ],\n",
       "        [-0.05767132],\n",
       "        [-0.23440465],\n",
       "        [-0.06362536],\n",
       "        [-0.09248392],\n",
       "        [ 0.06488511],\n",
       "        [ 0.16261537],\n",
       "        [ 0.14601772],\n",
       "        [ 0.0266544 ],\n",
       "        [ 0.07958601],\n",
       "        [ 0.11495965],\n",
       "        [-0.1061875 ],\n",
       "        [-0.06911556],\n",
       "        [-0.16441517],\n",
       "        [ 0.22497384],\n",
       "        [-0.04250849],\n",
       "        [ 0.1153597 ]], dtype=float32),\n",
       " array([0.22369474], dtype=float32)]"
      ]
     },
     "execution_count": 19,
     "metadata": {},
     "output_type": "execute_result"
    }
   ],
   "source": [
    "model.get_weights()"
   ]
  },
  {
   "cell_type": "code",
   "execution_count": 20,
   "metadata": {},
   "outputs": [],
   "source": [
    "# Step 2: Helper Functions\n",
    "# Function to decode reviews\n",
    "def decode_review(encoded_review):\n",
    "    return ' '.join([reverse_word_index.get(i - 3, '?') for i in encoded_review])\n",
    "\n",
    "# Function to preprocess user input\n",
    "def preprocess_text(text):\n",
    "    words = text.lower().split()\n",
    "    encoded_review = [word_index.get(word, 2) + 3 for word in words]\n",
    "    padded_review = sequence.pad_sequences([encoded_review], maxlen=500)\n",
    "    return padded_review"
   ]
  },
  {
   "cell_type": "code",
   "execution_count": 21,
   "metadata": {},
   "outputs": [],
   "source": [
    "### Prediction  function\n",
    "\n",
    "def predict_sentiment(review):\n",
    "    preprocessed_input=preprocess_text(review)\n",
    "\n",
    "    prediction=model.predict(preprocessed_input)\n",
    "\n",
    "    sentiment = 'Positive' if prediction[0][0] > 0.3 else 'Negative'\n",
    "    \n",
    "    return sentiment, prediction[0][0]\n",
    "\n"
   ]
  },
  {
   "cell_type": "code",
   "execution_count": 23,
   "metadata": {},
   "outputs": [
    {
     "name": "stdout",
     "output_type": "stream",
     "text": [
      "\u001b[1m1/1\u001b[0m \u001b[32m━━━━━━━━━━━━━━━━━━━━\u001b[0m\u001b[37m\u001b[0m \u001b[1m0s\u001b[0m 36ms/step\n",
      "Review: This movie was very very good!\n",
      "Sentiment: Negative\n",
      "Prediction Score: 0.021812768653035164\n"
     ]
    }
   ],
   "source": [
    "# Step 4: User Input and Prediction\n",
    "# Example review for prediction\n",
    "example_review = \"This movie was very very good!\"\n",
    "\n",
    "sentiment,score=predict_sentiment(example_review)\n",
    "\n",
    "print(f'Review: {example_review}')\n",
    "print(f'Sentiment: {sentiment}')\n",
    "print(f'Prediction Score: {score}')"
   ]
  },
  {
   "cell_type": "code",
   "execution_count": null,
   "metadata": {},
   "outputs": [],
   "source": []
  },
  {
   "cell_type": "code",
   "execution_count": null,
   "metadata": {},
   "outputs": [],
   "source": []
  },
  {
   "cell_type": "code",
   "execution_count": null,
   "metadata": {},
   "outputs": [],
   "source": []
  },
  {
   "cell_type": "code",
   "execution_count": null,
   "metadata": {},
   "outputs": [],
   "source": []
  }
 ],
 "metadata": {
  "kernelspec": {
   "display_name": "Python 3",
   "language": "python",
   "name": "python3"
  },
  "language_info": {
   "codemirror_mode": {
    "name": "ipython",
    "version": 3
   },
   "file_extension": ".py",
   "mimetype": "text/x-python",
   "name": "python",
   "nbconvert_exporter": "python",
   "pygments_lexer": "ipython3",
   "version": "3.10.14"
  }
 },
 "nbformat": 4,
 "nbformat_minor": 2
}
